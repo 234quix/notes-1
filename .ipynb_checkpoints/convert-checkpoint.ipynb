{
 "cells": [
  {
   "cell_type": "code",
   "execution_count": 1,
   "metadata": {},
   "outputs": [],
   "source": [
    "# Load libraries\n",
    "import os\n",
    "import re\n",
    "import fileinput\n",
    "import sys\n",
    "import json\n",
    "\n",
    "# Create path to content\n",
    "path = 'content/'\n",
    "\n",
    "# Find all jupyter notebooks in all content folders\n",
    "all_ipynb_files = [os.path.join(root, name)\n",
    "                   for root, dirs, files in os.walk(path)\n",
    "                       for name in files\n",
    "                           if name.endswith((\".ipynb\"))]\n",
    "\n",
    "# Remove all notebooks from checkpoint folders\n",
    "ipynb_files = [ x for x in all_ipynb_files if \".ipynb_checkpoints\" not in x ]"
   ]
  },
  {
   "cell_type": "code",
   "execution_count": 2,
   "metadata": {},
   "outputs": [],
   "source": [
    "for file in ipynb_files:\n",
    "    with open(file) as data_file:    \n",
    "        data = json.load(data_file)\n",
    "        \n",
    "        if data['cells'][0]['cell_type'] == 'markdown':\n",
    "            data['cells'][0]['cell_type'] = 'raw'\n",
    "\n",
    "            old_frontmatter = data['cells'][0]['source']\n",
    "\n",
    "            for row in old_frontmatter:\n",
    "                if \"Title:\" in row:\n",
    "                    title = row.split(\":\")[1].split(\"\\n\")[0].strip()\n",
    "                if \"Summary:\" in row:\n",
    "                    description = row.split(\":\")[1].split(\"\\n\")[0].strip()\n",
    "\n",
    "            title_string = f\"title: \\\"{title}\\\"\\n\".replace('\\'', '')\n",
    "            description_string = f\"description: \\\"{description}\\\"\\n\".replace('', '')\n",
    "\n",
    "            new_frontmatter = [\"---\\n\",\n",
    "                                title_string,\n",
    "                                \"author: \\\"Chris Albon\\\"\\n\",\n",
    "                                \"date: 2017-12-20T11:53:49-07:00\\n\",\n",
    "                                 description_string,\n",
    "                                \"type: technical_note\\n\",\n",
    "                                \"draft: false\\n\",\n",
    "                                \"---\"]\n",
    "\n",
    "            data['cells'][0]['source'] = new_frontmatter\n",
    "            \n",
    "    with open(file, 'w') as outfile:\n",
    "        json.dump(data, outfile)"
   ]
  }
 ],
 "metadata": {
  "kernelspec": {
   "display_name": "Python 3",
   "language": "python",
   "name": "python3"
  },
  "language_info": {
   "codemirror_mode": {
    "name": "ipython",
    "version": 3
   },
   "file_extension": ".py",
   "mimetype": "text/x-python",
   "name": "python",
   "nbconvert_exporter": "python",
   "pygments_lexer": "ipython3",
   "version": "3.6.3"
  }
 },
 "nbformat": 4,
 "nbformat_minor": 2
}
